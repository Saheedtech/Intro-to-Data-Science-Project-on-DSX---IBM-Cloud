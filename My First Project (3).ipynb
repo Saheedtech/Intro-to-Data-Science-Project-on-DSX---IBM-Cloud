{
 "cells": [
  {
   "cell_type": "markdown",
   "metadata": {
    "collapsed": true
   },
   "source": [
    "# My Jupyter Notebook on IBM Data Science Experience"
   ]
  },
  {
   "cell_type": "markdown",
   "metadata": {},
   "source": [
    "**IBRAHIM, Saheed Adegboyega**  \n",
    "Financial Institution"
   ]
  },
  {
   "cell_type": "markdown",
   "metadata": {},
   "source": [
    "I am interested Data Science basically to advance my career from an Economist Research Analyst to Seaspend Data Scientist who can use analytical tools, techniques and data to provide valunable solutions in the Financial Service Sector \n",
    "\n",
    "Because data is the new oil, I want to be able derive value and  insights from data in a way that helps stakeholders make informed business decisions and see solutions through data"
   ]
  },
  {
   "cell_type": "markdown",
   "metadata": {},
   "source": [
    "### Basic Multiplication"
   ]
  },
  {
   "cell_type": "code",
   "execution_count": 2,
   "metadata": {},
   "outputs": [
    {
     "data": {
      "text/plain": [
       "20"
      ]
     },
     "execution_count": 2,
     "metadata": {},
     "output_type": "execute_result"
    }
   ],
   "source": [
    "2 * 10"
   ]
  },
  {
   "cell_type": "markdown",
   "metadata": {},
   "source": [
    "**_List_**\n",
    "1. issue 1\n",
    "2. Issue 2 \n",
    " **+ Sub List**   \n",
    "a. Volume a  \n",
    "b. Volume b  \n",
    "3. Arrange  \n",
    "4. Arrangee  \n",
    "\n",
    "**Table**  \n",
    "Tables | Names | Score  \n",
    "--- | --- | ---  \n",
    "A | `Abu` | 30  \n",
    "B | `Babu` | 34    \n",
    "\n",
    "**Horizontal Rule**  \n",
    "My first street    \n",
    "___  \n",
    "My other street  \n",
    "***  \n",
    "My next street  \n",
    "___   \n",
    "No man's street  \n",
    "\n",
    "**_StrikeThrough_**  \n",
    "~~NoteBookSuspended~~   \n",
    "Thank you  "
   ]
  },
  {
   "cell_type": "code",
   "execution_count": null,
   "metadata": {},
   "outputs": [],
   "source": []
  }
 ],
 "metadata": {
  "kernelspec": {
   "display_name": "Python 3.6",
   "language": "python",
   "name": "python3"
  },
  "language_info": {
   "codemirror_mode": {
    "name": "ipython",
    "version": 3
   },
   "file_extension": ".py",
   "mimetype": "text/x-python",
   "name": "python",
   "nbconvert_exporter": "python",
   "pygments_lexer": "ipython3",
   "version": "3.6.9"
  }
 },
 "nbformat": 4,
 "nbformat_minor": 1
}
